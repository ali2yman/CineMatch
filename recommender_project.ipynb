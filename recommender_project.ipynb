{
 "cells": [
  {
   "cell_type": "code",
   "execution_count": 1,
   "id": "66fe5eca",
   "metadata": {},
   "outputs": [
    {
     "ename": "ModuleNotFoundError",
     "evalue": "No module named 'pandas'",
     "output_type": "error",
     "traceback": [
      "\u001b[31m---------------------------------------------------------------------------\u001b[39m",
      "\u001b[31mModuleNotFoundError\u001b[39m                       Traceback (most recent call last)",
      "\u001b[36mCell\u001b[39m\u001b[36m \u001b[39m\u001b[32mIn[1]\u001b[39m\u001b[32m, line 1\u001b[39m\n\u001b[32m----> \u001b[39m\u001b[32m1\u001b[39m \u001b[38;5;28;01mimport\u001b[39;00m\u001b[38;5;250m \u001b[39m\u001b[34;01mpandas\u001b[39;00m\u001b[38;5;250m \u001b[39m\u001b[38;5;28;01mas\u001b[39;00m\u001b[38;5;250m \u001b[39m\u001b[34;01mpd\u001b[39;00m\n\u001b[32m      2\u001b[39m \u001b[38;5;28;01mimport\u001b[39;00m\u001b[38;5;250m \u001b[39m\u001b[34;01mnumpy\u001b[39;00m\u001b[38;5;250m \u001b[39m\u001b[38;5;28;01mas\u001b[39;00m\u001b[38;5;250m \u001b[39m\u001b[34;01mnp\u001b[39;00m\n\u001b[32m      3\u001b[39m \u001b[38;5;28;01mimport\u001b[39;00m\u001b[38;5;250m \u001b[39m\u001b[34;01mmatplotlib\u001b[39;00m\u001b[34;01m.\u001b[39;00m\u001b[34;01mpyplot\u001b[39;00m\u001b[38;5;250m \u001b[39m\u001b[38;5;28;01mas\u001b[39;00m\u001b[38;5;250m \u001b[39m\u001b[34;01mplt\u001b[39;00m\n",
      "\u001b[31mModuleNotFoundError\u001b[39m: No module named 'pandas'"
     ]
    }
   ],
   "source": [
    "import pandas as pd\n",
    "import numpy as np\n",
    "import matplotlib.pyplot as plt\n",
    "import seaborn as sns\n",
    "from datetime import datetime\n",
    "import pickle\n",
    "import warnings\n",
    "warnings.filterwarnings('ignore')\n",
    "\n",
    "from surprise import Dataset, Reader, SVD\n",
    "from surprise.prediction_algorithms.matrix_factorization import SVD\n",
    "from surprise.model_selection import train_test_split, cross_validate\n",
    "from surprise.accuracy import mse, mae, rmse\n",
    "from surprise import accuracy\n",
    "\n",
    "import torch\n",
    "import torch.nn as nn\n",
    "import torch.optim as optim\n",
    "from torch.utils.data import DataLoader, TensorDataset\n",
    "import torch.nn.functional as F\n",
    "\n",
    "from sklearn.preprocessing import MultiLabelBinarizer, LabelEncoder\n",
    "from sklearn.metrics.pairwise import cosine_similarity\n",
    "from sklearn.model_selection import train_test_split as sklearn_train_test_split\n",
    "from sklearn.metrics import mean_squared_error, mean_absolute_error\n",
    "\n",
    "np.random.seed(29)\n",
    "torch.manual_seed(29)"
   ]
  },
  {
   "cell_type": "markdown",
   "id": "d006efc0",
   "metadata": {},
   "source": [
    "## EDA"
   ]
  },
  {
   "cell_type": "code",
   "execution_count": 2,
   "id": "d19a575b",
   "metadata": {},
   "outputs": [
    {
     "name": "stdout",
     "output_type": "stream",
     "text": [
      "Rating dataset shape: (100836, 4)\n",
      "Movies dataset shape: (9742, 3)\n"
     ]
    }
   ],
   "source": [
    "rating_df = pd.read_csv('data\\ml-latest-small/ratings.csv')\n",
    "movies_data = pd.read_csv('data\\ml-latest-small/movies.csv')\n",
    "\n",
    "print(\"Rating dataset shape:\", rating_df.shape)\n",
    "print(\"Movies dataset shape:\", movies_data.shape)"
   ]
  },
  {
   "cell_type": "code",
   "execution_count": 3,
   "id": "61f9fb01",
   "metadata": {},
   "outputs": [
    {
     "data": {
      "application/vnd.microsoft.datawrangler.viewer.v0+json": {
       "columns": [
        {
         "name": "index",
         "rawType": "int64",
         "type": "integer"
        },
        {
         "name": "userId",
         "rawType": "int64",
         "type": "integer"
        },
        {
         "name": "movieId",
         "rawType": "int64",
         "type": "integer"
        },
        {
         "name": "rating",
         "rawType": "float64",
         "type": "float"
        },
        {
         "name": "timestamp",
         "rawType": "int64",
         "type": "integer"
        }
       ],
       "ref": "4d8ca876-d2d0-4110-8530-1b57cd8d8881",
       "rows": [
        [
         "0",
         "1",
         "1",
         "4.0",
         "964982703"
        ],
        [
         "1",
         "1",
         "3",
         "4.0",
         "964981247"
        ],
        [
         "2",
         "1",
         "6",
         "4.0",
         "964982224"
        ],
        [
         "3",
         "1",
         "47",
         "5.0",
         "964983815"
        ],
        [
         "4",
         "1",
         "50",
         "5.0",
         "964982931"
        ]
       ],
       "shape": {
        "columns": 4,
        "rows": 5
       }
      },
      "text/html": [
       "<div>\n",
       "<style scoped>\n",
       "    .dataframe tbody tr th:only-of-type {\n",
       "        vertical-align: middle;\n",
       "    }\n",
       "\n",
       "    .dataframe tbody tr th {\n",
       "        vertical-align: top;\n",
       "    }\n",
       "\n",
       "    .dataframe thead th {\n",
       "        text-align: right;\n",
       "    }\n",
       "</style>\n",
       "<table border=\"1\" class=\"dataframe\">\n",
       "  <thead>\n",
       "    <tr style=\"text-align: right;\">\n",
       "      <th></th>\n",
       "      <th>userId</th>\n",
       "      <th>movieId</th>\n",
       "      <th>rating</th>\n",
       "      <th>timestamp</th>\n",
       "    </tr>\n",
       "  </thead>\n",
       "  <tbody>\n",
       "    <tr>\n",
       "      <th>0</th>\n",
       "      <td>1</td>\n",
       "      <td>1</td>\n",
       "      <td>4.0</td>\n",
       "      <td>964982703</td>\n",
       "    </tr>\n",
       "    <tr>\n",
       "      <th>1</th>\n",
       "      <td>1</td>\n",
       "      <td>3</td>\n",
       "      <td>4.0</td>\n",
       "      <td>964981247</td>\n",
       "    </tr>\n",
       "    <tr>\n",
       "      <th>2</th>\n",
       "      <td>1</td>\n",
       "      <td>6</td>\n",
       "      <td>4.0</td>\n",
       "      <td>964982224</td>\n",
       "    </tr>\n",
       "    <tr>\n",
       "      <th>3</th>\n",
       "      <td>1</td>\n",
       "      <td>47</td>\n",
       "      <td>5.0</td>\n",
       "      <td>964983815</td>\n",
       "    </tr>\n",
       "    <tr>\n",
       "      <th>4</th>\n",
       "      <td>1</td>\n",
       "      <td>50</td>\n",
       "      <td>5.0</td>\n",
       "      <td>964982931</td>\n",
       "    </tr>\n",
       "  </tbody>\n",
       "</table>\n",
       "</div>"
      ],
      "text/plain": [
       "   userId  movieId  rating  timestamp\n",
       "0       1        1     4.0  964982703\n",
       "1       1        3     4.0  964981247\n",
       "2       1        6     4.0  964982224\n",
       "3       1       47     5.0  964983815\n",
       "4       1       50     5.0  964982931"
      ]
     },
     "execution_count": 3,
     "metadata": {},
     "output_type": "execute_result"
    }
   ],
   "source": [
    "rating_df.head()"
   ]
  },
  {
   "cell_type": "code",
   "execution_count": 4,
   "id": "f03b4320",
   "metadata": {},
   "outputs": [
    {
     "name": "stdout",
     "output_type": "stream",
     "text": [
      "<class 'pandas.core.frame.DataFrame'>\n",
      "RangeIndex: 100836 entries, 0 to 100835\n",
      "Data columns (total 4 columns):\n",
      " #   Column     Non-Null Count   Dtype  \n",
      "---  ------     --------------   -----  \n",
      " 0   userId     100836 non-null  int64  \n",
      " 1   movieId    100836 non-null  int64  \n",
      " 2   rating     100836 non-null  float64\n",
      " 3   timestamp  100836 non-null  int64  \n",
      "dtypes: float64(1), int64(3)\n",
      "memory usage: 3.1 MB\n"
     ]
    }
   ],
   "source": [
    "rating_df.info()"
   ]
  },
  {
   "cell_type": "code",
   "execution_count": 5,
   "id": "2eae9d7d",
   "metadata": {},
   "outputs": [
    {
     "data": {
      "application/vnd.microsoft.datawrangler.viewer.v0+json": {
       "columns": [
        {
         "name": "index",
         "rawType": "object",
         "type": "string"
        },
        {
         "name": "0",
         "rawType": "int64",
         "type": "integer"
        }
       ],
       "ref": "f5895f94-790b-4108-85fa-b06688fed70e",
       "rows": [
        [
         "userId",
         "0"
        ],
        [
         "movieId",
         "0"
        ],
        [
         "rating",
         "0"
        ],
        [
         "timestamp",
         "0"
        ]
       ],
       "shape": {
        "columns": 1,
        "rows": 4
       }
      },
      "text/plain": [
       "userId       0\n",
       "movieId      0\n",
       "rating       0\n",
       "timestamp    0\n",
       "dtype: int64"
      ]
     },
     "execution_count": 5,
     "metadata": {},
     "output_type": "execute_result"
    }
   ],
   "source": [
    "rating_df.isna().sum()"
   ]
  },
  {
   "cell_type": "code",
   "execution_count": 6,
   "id": "7848ce40",
   "metadata": {},
   "outputs": [
    {
     "name": "stdout",
     "output_type": "stream",
     "text": [
      "\n",
      "Rating range: 0.5 - 5.0\n",
      "Number of unique users: 610\n",
      "Number of unique movies: 9724\n",
      "Total ratings: 100836\n"
     ]
    }
   ],
   "source": [
    "print(f\"\\nRating range: {rating_df['rating'].min()} - {rating_df['rating'].max()}\")\n",
    "print(f\"Number of unique users: {rating_df['userId'].nunique()}\")\n",
    "print(f\"Number of unique movies: {rating_df['movieId'].nunique()}\")\n",
    "print(f\"Total ratings: {len(rating_df)}\")"
   ]
  },
  {
   "cell_type": "code",
   "execution_count": 7,
   "id": "034f976c",
   "metadata": {},
   "outputs": [
    {
     "data": {
      "image/png": "[encoded data removed]",
      "text/plain": [
       "<Figure size 1200x800 with 4 Axes>"
      ]
     },
     "metadata": {},
     "output_type": "display_data"
    }
   ],
   "source": [
    "plt.figure(figsize=(12, 8))\n",
    "\n",
    "plt.subplot(2, 2, 1)\n",
    "rating_df['rating'].hist(bins=10, edgecolor='black')\n",
    "plt.title('Distribution of Ratings')\n",
    "plt.xlabel('Rating')\n",
    "plt.ylabel('Frequency')\n",
    "\n",
    "plt.subplot(2, 2, 2)\n",
    "user_rating_counts = rating_df['userId'].value_counts()\n",
    "plt.hist(user_rating_counts, bins=50, edgecolor='black')\n",
    "plt.title('Distribution of Number of Ratings per User')\n",
    "plt.xlabel('Number of Ratings')\n",
    "plt.ylabel('Number of Users')\n",
    "plt.yscale('log')\n",
    "\n",
    "plt.subplot(2, 2, 3)\n",
    "movie_rating_counts = rating_df['movieId'].value_counts()\n",
    "plt.hist(movie_rating_counts, bins=50, edgecolor='black')\n",
    "plt.title('Distribution of Number of Ratings per Movie')\n",
    "plt.xlabel('Number of Ratings')\n",
    "plt.ylabel('Number of Movies')\n",
    "plt.yscale('log')\n",
    "\n",
    "plt.subplot(2, 2, 4)\n",
    "rating_df['timestamp'] = pd.to_datetime(rating_df['timestamp'], unit='s')\n",
    "rating_df['year'] = rating_df['timestamp'].dt.year\n",
    "yearly_ratings = rating_df['year'].value_counts().sort_index()\n",
    "yearly_ratings.plot(kind='line')\n",
    "plt.title('Ratings Over Time')\n",
    "plt.xlabel('Year')\n",
    "plt.ylabel('Number of Ratings')\n",
    "\n",
    "plt.tight_layout()\n",
    "plt.show()"
   ]
  },
  {
   "cell_type": "code",
   "execution_count": 8,
   "id": "0c3ee654",
   "metadata": {},
   "outputs": [
    {
     "data": {
      "application/vnd.microsoft.datawrangler.viewer.v0+json": {
       "columns": [
        {
         "name": "index",
         "rawType": "int64",
         "type": "integer"
        },
        {
         "name": "movieId",
         "rawType": "int64",
         "type": "integer"
        },
        {
         "name": "title",
         "rawType": "object",
         "type": "string"
        },
        {
         "name": "genres",
         "rawType": "object",
         "type": "string"
        }
       ],
       "ref": "900c9552-6ce2-4315-b934-ab96f7ca844a",
       "rows": [
        [
         "0",
         "1",
         "Toy Story (1995)",
         "Adventure|Animation|Children|Comedy|Fantasy"
        ],
        [
         "1",
         "2",
         "Jumanji (1995)",
         "Adventure|Children|Fantasy"
        ],
        [
         "2",
         "3",
         "Grumpier Old Men (1995)",
         "Comedy|Romance"
        ],
        [
         "3",
         "4",
         "Waiting to Exhale (1995)",
         "Comedy|Drama|Romance"
        ],
        [
         "4",
         "5",
         "Father of the Bride Part II (1995)",
         "Comedy"
        ]
       ],
       "shape": {
        "columns": 3,
        "rows": 5
       }
      },
      "text/html": [
       "<div>\n",
       "<style scoped>\n",
       "    .dataframe tbody tr th:only-of-type {\n",
       "        vertical-align: middle;\n",
       "    }\n",
       "\n",
       "    .dataframe tbody tr th {\n",
       "        vertical-align: top;\n",
       "    }\n",
       "\n",
       "    .dataframe thead th {\n",
       "        text-align: right;\n",
       "    }\n",
       "</style>\n",
       "<table border=\"1\" class=\"dataframe\">\n",
       "  <thead>\n",
       "    <tr style=\"text-align: right;\">\n",
       "      <th></th>\n",
       "      <th>movieId</th>\n",
       "      <th>title</th>\n",
       "      <th>genres</th>\n",
       "    </tr>\n",
       "  </thead>\n",
       "  <tbody>\n",
       "    <tr>\n",
       "      <th>0</th>\n",
       "      <td>1</td>\n",
       "      <td>Toy Story (1995)</td>\n",
       "      <td>Adventure|Animation|Children|Comedy|Fantasy</td>\n",
       "    </tr>\n",
       "    <tr>\n",
       "      <th>1</th>\n",
       "      <td>2</td>\n",
       "      <td>Jumanji (1995)</td>\n",
       "      <td>Adventure|Children|Fantasy</td>\n",
       "    </tr>\n",
       "    <tr>\n",
       "      <th>2</th>\n",
       "      <td>3</td>\n",
       "      <td>Grumpier Old Men (1995)</td>\n",
       "      <td>Comedy|Romance</td>\n",
       "    </tr>\n",
       "    <tr>\n",
       "      <th>3</th>\n",
       "      <td>4</td>\n",
       "      <td>Waiting to Exhale (1995)</td>\n",
       "      <td>Comedy|Drama|Romance</td>\n",
       "    </tr>\n",
       "    <tr>\n",
       "      <th>4</th>\n",
       "      <td>5</td>\n",
       "      <td>Father of the Bride Part II (1995)</td>\n",
       "      <td>Comedy</td>\n",
       "    </tr>\n",
       "  </tbody>\n",
       "</table>\n",
       "</div>"
      ],
      "text/plain": [
       "   movieId                               title  \\\n",
       "0        1                    Toy Story (1995)   \n",
       "1        2                      Jumanji (1995)   \n",
       "2        3             Grumpier Old Men (1995)   \n",
       "3        4            Waiting to Exhale (1995)   \n",
       "4        5  Father of the Bride Part II (1995)   \n",
       "\n",
       "                                        genres  \n",
       "0  Adventure|Animation|Children|Comedy|Fantasy  \n",
       "1                   Adventure|Children|Fantasy  \n",
       "2                               Comedy|Romance  \n",
       "3                         Comedy|Drama|Romance  \n",
       "4                                       Comedy  "
      ]
     },
     "execution_count": 8,
     "metadata": {},
     "output_type": "execute_result"
    }
   ],
   "source": [
    "movies_data.head()"
   ]
  },
  {
   "cell_type": "code",
   "execution_count": 9,
   "id": "29f9c40c",
   "metadata": {},
   "outputs": [
    {
     "name": "stdout",
     "output_type": "stream",
     "text": [
      "<class 'pandas.core.frame.DataFrame'>\n",
      "RangeIndex: 9742 entries, 0 to 9741\n",
      "Data columns (total 3 columns):\n",
      " #   Column   Non-Null Count  Dtype \n",
      "---  ------   --------------  ----- \n",
      " 0   movieId  9742 non-null   int64 \n",
      " 1   title    9742 non-null   object\n",
      " 2   genres   9742 non-null   object\n",
      "dtypes: int64(1), object(2)\n",
      "memory usage: 228.5+ KB\n"
     ]
    }
   ],
   "source": [
    "movies_data.info()"
   ]
  },
  {
   "cell_type": "code",
   "execution_count": 10,
   "id": "a45b1989",
   "metadata": {},
   "outputs": [
    {
     "data": {
      "application/vnd.microsoft.datawrangler.viewer.v0+json": {
       "columns": [
        {
         "name": "index",
         "rawType": "object",
         "type": "string"
        },
        {
         "name": "0",
         "rawType": "int64",
         "type": "integer"
        }
       ],
       "ref": "c6fe3342-37d8-4931-a58a-6ee8c3a0a6f8",
       "rows": [
        [
         "movieId",
         "0"
        ],
        [
         "title",
         "0"
        ],
        [
         "genres",
         "0"
        ]
       ],
       "shape": {
        "columns": 1,
        "rows": 3
       }
      },
      "text/plain": [
       "movieId    0\n",
       "title      0\n",
       "genres     0\n",
       "dtype: int64"
      ]
     },
     "execution_count": 10,
     "metadata": {},
     "output_type": "execute_result"
    }
   ],
   "source": [
    "movies_data.isna().sum()"
   ]
  },
  {
   "cell_type": "code",
   "execution_count": 11,
   "id": "4956d25b",
   "metadata": {},
   "outputs": [
    {
     "name": "stdout",
     "output_type": "stream",
     "text": [
      "\n",
      "Total unique genres: 19\n",
      "\n",
      "Top 10 genres:\n",
      "Drama        4361\n",
      "Comedy       3756\n",
      "Thriller     1894\n",
      "Action       1828\n",
      "Romance      1596\n",
      "Adventure    1263\n",
      "Crime        1199\n",
      "Sci-Fi        980\n",
      "Horror        978\n",
      "Fantasy       779\n",
      "Name: count, dtype: int64\n"
     ]
    }
   ],
   "source": [
    "all_genres = []\n",
    "for genres in movies_data['genres'].dropna():\n",
    "    if genres != '(no genres listed)':\n",
    "        all_genres.extend(genres.split('|'))\n",
    "\n",
    "genre_counts = pd.Series(all_genres).value_counts()\n",
    "print(f\"\\nTotal unique genres: {len(genre_counts)}\")\n",
    "print(\"\\nTop 10 genres:\")\n",
    "print(genre_counts.head(10))"
   ]
  },
  {
   "cell_type": "code",
   "execution_count": 12,
   "id": "ff2f2774",
   "metadata": {},
   "outputs": [
    {
     "data": {
      "image/png": "[encoded data removed]",
      "text/plain": [
       "<Figure size 1200x600 with 1 Axes>"
      ]
     },
     "metadata": {},
     "output_type": "display_data"
    }
   ],
   "source": [
    "plt.figure(figsize=(12, 6))\n",
    "genre_counts.head(15).plot(kind='bar')\n",
    "plt.title('Top 15 Movie Genres')\n",
    "plt.xlabel('Genre')\n",
    "plt.ylabel('Number of Movies')\n",
    "plt.xticks(rotation=45)\n",
    "plt.tight_layout()\n",
    "plt.show()"
   ]
  },
  {
   "cell_type": "code",
   "execution_count": 13,
   "id": "df325952",
   "metadata": {},
   "outputs": [
    {
     "name": "stdout",
     "output_type": "stream",
     "text": [
      "\n",
      "Data sparsity: 98.30%\n"
     ]
    }
   ],
   "source": [
    "total_possible_ratings = rating_df['userId'].nunique() * rating_df['movieId'].nunique()\n",
    "actual_ratings = len(rating_df)\n",
    "sparsity = (1 - actual_ratings / total_possible_ratings) * 100\n",
    "print(f\"\\nData sparsity: {sparsity:.2f}%\")"
   ]
  },
  {
   "cell_type": "code",
   "execution_count": 14,
   "id": "e3994688",
   "metadata": {},
   "outputs": [
    {
     "name": "stdout",
     "output_type": "stream",
     "text": [
      "\n",
      "Average ratings per user: 165.30\n",
      "Average ratings per movie: 10.37\n"
     ]
    }
   ],
   "source": [
    "print(f\"\\nAverage ratings per user: {rating_df.groupby('userId').size().mean():.2f}\")\n",
    "print(f\"Average ratings per movie: {rating_df.groupby('movieId').size().mean():.2f}\")"
   ]
  },
  {
   "cell_type": "code",
   "execution_count": 15,
   "id": "0b96c54b",
   "metadata": {},
   "outputs": [
    {
     "name": "stdout",
     "output_type": "stream",
     "text": [
      "\n",
      "Most rated movies:\n",
      "   movieId    0                                      title\n",
      "0      356  329                        Forrest Gump (1994)\n",
      "1      318  317           Shawshank Redemption, The (1994)\n",
      "2      296  307                        Pulp Fiction (1994)\n",
      "3      593  279           Silence of the Lambs, The (1991)\n",
      "4     2571  278                         Matrix, The (1999)\n",
      "5      260  251  Star Wars: Episode IV - A New Hope (1977)\n",
      "6      480  238                       Jurassic Park (1993)\n",
      "7      110  237                          Braveheart (1995)\n",
      "8      589  224          Terminator 2: Judgment Day (1991)\n",
      "9      527  220                    Schindler's List (1993)\n"
     ]
    }
   ],
   "source": [
    "most_rated = rating_df.groupby('movieId').size().sort_values(ascending=False).head(10)\n",
    "most_rated_with_titles = most_rated.reset_index()\n",
    "most_rated_with_titles = most_rated_with_titles.merge(movies_data[['movieId', 'title']], on='movieId')\n",
    "print(\"\\nMost rated movies:\")\n",
    "print(most_rated_with_titles)"
   ]
  },
  {
   "cell_type": "code",
   "execution_count": 16,
   "id": "5cbfea62",
   "metadata": {},
   "outputs": [
    {
     "name": "stdout",
     "output_type": "stream",
     "text": [
      "\n",
      "Highest rated movies (min 50 ratings):\n",
      "   movieId  avg_rating  num_ratings  \\\n",
      "0      318        4.43          317   \n",
      "1      858        4.29          192   \n",
      "2      750        4.27           97   \n",
      "3     1276        4.27           57   \n",
      "4     2959        4.27          218   \n",
      "5     1221        4.26          129   \n",
      "6      904        4.26           84   \n",
      "7    48516        4.25          107   \n",
      "8     1213        4.25          126   \n",
      "9    58559        4.24          149   \n",
      "\n",
      "                                               title  \n",
      "0                   Shawshank Redemption, The (1994)  \n",
      "1                              Godfather, The (1972)  \n",
      "2  Dr. Strangelove or: How I Learned to Stop Worr...  \n",
      "3                              Cool Hand Luke (1967)  \n",
      "4                                  Fight Club (1999)  \n",
      "5                     Godfather: Part II, The (1974)  \n",
      "6                                 Rear Window (1954)  \n",
      "7                               Departed, The (2006)  \n",
      "8                                  Goodfellas (1990)  \n",
      "9                            Dark Knight, The (2008)  \n"
     ]
    }
   ],
   "source": [
    "avg_ratings = rating_df.groupby('movieId').agg({'rating': ['mean', 'count']}).round(2)\n",
    "avg_ratings.columns = ['avg_rating', 'num_ratings']\n",
    "avg_ratings = avg_ratings.reset_index()\n",
    "popular_movies = avg_ratings[avg_ratings['num_ratings'] >= 50].sort_values('avg_rating', ascending=False).head(10)\n",
    "popular_movies = popular_movies.merge(movies_data[['movieId', 'title']], on='movieId')\n",
    "print(\"\\nHighest rated movies (min 50 ratings):\")\n",
    "print(popular_movies)"
   ]
  },
  {
   "cell_type": "markdown",
   "id": "67ef8ce3",
   "metadata": {},
   "source": [
    "## Data Prepration"
   ]
  },
  {
   "cell_type": "code",
   "execution_count": 17,
   "id": "a5cfd92c",
   "metadata": {},
   "outputs": [
    {
     "name": "stdout",
     "output_type": "stream",
     "text": [
      "Data quality check:\n",
      "Duplicate ratings: 0\n",
      "Users with only 1 rating: 0\n",
      "Movies with only 1 rating: 3446\n"
     ]
    }
   ],
   "source": [
    "rating_df['timestamp'] = rating_df['timestamp'].astype('int64')\n",
    "\n",
    "print(\"Data quality check:\")\n",
    "print(f\"Duplicate ratings: {rating_df.duplicated().sum()}\")\n",
    "print(f\"Users with only 1 rating: {sum(rating_df.groupby('userId').size() == 1)}\")\n",
    "print(f\"Movies with only 1 rating: {sum(rating_df.groupby('movieId').size() == 1)}\")"
   ]
  },
  {
   "cell_type": "markdown",
   "id": "3a3eb2d0",
   "metadata": {},
   "source": [
    "Filter out users and movies with very few ratings for better model performance"
   ]
  },
  {
   "cell_type": "code",
   "execution_count": 18,
   "id": "4f53fa6a",
   "metadata": {},
   "outputs": [
    {
     "name": "stdout",
     "output_type": "stream",
     "text": [
      "\n",
      "After filtering:\n",
      "Original ratings: 100836\n",
      "Filtered ratings: 67898\n",
      "Users: 610 -> 610\n",
      "Movies: 9724 -> 1297\n"
     ]
    }
   ],
   "source": [
    "min_user_ratings = 20\n",
    "min_movie_ratings = 20\n",
    "\n",
    "user_counts = rating_df['userId'].value_counts()\n",
    "movie_counts = rating_df['movieId'].value_counts()\n",
    "\n",
    "valid_users = user_counts[user_counts >= min_user_ratings].index\n",
    "valid_movies = movie_counts[movie_counts >= min_movie_ratings].index\n",
    "\n",
    "filtered_ratings = rating_df[\n",
    "    (rating_df['userId'].isin(valid_users)) & \n",
    "    (rating_df['movieId'].isin(valid_movies))\n",
    "]\n",
    "\n",
    "print(f\"\\nAfter filtering:\")\n",
    "print(f\"Original ratings: {len(rating_df)}\")\n",
    "print(f\"Filtered ratings: {len(filtered_ratings)}\")\n",
    "print(f\"Users: {rating_df['userId'].nunique()} -> {filtered_ratings['userId'].nunique()}\")\n",
    "print(f\"Movies: {rating_df['movieId'].nunique()} -> {filtered_ratings['movieId'].nunique()}\")"
   ]
  },
  {
   "cell_type": "code",
   "execution_count": 19,
   "id": "89a5d37d",
   "metadata": {},
   "outputs": [],
   "source": [
    "rating_df_clean = filtered_ratings.copy()"
   ]
  },
  {
   "cell_type": "markdown",
   "id": "e16d9369",
   "metadata": {},
   "source": [
    "Create user and movie encoders for neural networks\n"
   ]
  },
  {
   "cell_type": "code",
   "execution_count": 20,
   "id": "a6222bc1",
   "metadata": {},
   "outputs": [
    {
     "name": "stdout",
     "output_type": "stream",
     "text": [
      "\n",
      "Encoded dimensions:\n",
      "Number of users: 610\n",
      "Number of movies: 1297\n"
     ]
    }
   ],
   "source": [
    "user_encoder = LabelEncoder()\n",
    "movie_encoder = LabelEncoder()\n",
    "\n",
    "rating_df_clean['user_encoded'] = user_encoder.fit_transform(rating_df_clean['userId'])\n",
    "rating_df_clean['movie_encoded'] = movie_encoder.fit_transform(rating_df_clean['movieId'])\n",
    "\n",
    "n_users = rating_df_clean['user_encoded'].nunique()\n",
    "n_movies = rating_df_clean['movie_encoded'].nunique()\n",
    "\n",
    "print(f\"\\nEncoded dimensions:\")\n",
    "print(f\"Number of users: {n_users}\")\n",
    "print(f\"Number of movies: {n_movies}\")"
   ]
  },
  {
   "cell_type": "markdown",
   "id": "c7cdbf43",
   "metadata": {},
   "source": [
    "Split data for neural network models\n"
   ]
  },
  {
   "cell_type": "code",
   "execution_count": 21,
   "id": "e8ef4a0a",
   "metadata": {},
   "outputs": [
    {
     "name": "stdout",
     "output_type": "stream",
     "text": [
      "\n",
      "Train set size: 54318\n",
      "Test set size: 13580\n"
     ]
    }
   ],
   "source": [
    "train_data, test_data = sklearn_train_test_split(rating_df_clean, test_size=0.2, random_state=42)\n",
    "\n",
    "print(f\"\\nTrain set size: {len(train_data)}\")\n",
    "print(f\"Test set size: {len(test_data)}\")"
   ]
  },
  {
   "cell_type": "markdown",
   "id": "53ef0c3f",
   "metadata": {},
   "source": [
    "Prepare data for Surprise library\n"
   ]
  },
  {
   "cell_type": "code",
   "execution_count": 22,
   "id": "418c11b3",
   "metadata": {},
   "outputs": [],
   "source": [
    "reader = Reader(rating_scale=(0.5, 5.0))\n",
    "surprise_data = Dataset.load_from_df(rating_df_clean[['userId', 'movieId', 'rating']], reader)"
   ]
  },
  {
   "cell_type": "markdown",
   "id": "0e380b41",
   "metadata": {},
   "source": [
    "## Factorization Machines"
   ]
  },
  {
   "cell_type": "code",
   "execution_count": 23,
   "id": "7e1ab0c2",
   "metadata": {},
   "outputs": [],
   "source": [
    "trainset, testset = train_test_split(surprise_data, test_size=0.2, random_state=29)"
   ]
  },
  {
   "cell_type": "code",
   "execution_count": 24,
   "id": "3228f67b",
   "metadata": {},
   "outputs": [
    {
     "data": {
      "text/plain": [
       "<surprise.prediction_algorithms.matrix_factorization.SVD at 0x1cc5e68d4e0>"
      ]
     },
     "execution_count": 24,
     "metadata": {},
     "output_type": "execute_result"
    }
   ],
   "source": [
    "svd_model = SVD(n_factors=100, n_epochs=20, biased=True, random_state=42)\n",
    "svd_model.fit(trainset)"
   ]
  },
  {
   "cell_type": "code",
   "execution_count": 25,
   "id": "b3e46eca",
   "metadata": {},
   "outputs": [],
   "source": [
    "svd_predictions = svd_model.test(testset)"
   ]
  },
  {
   "cell_type": "code",
   "execution_count": 26,
   "id": "343484bd",
   "metadata": {},
   "outputs": [
    {
     "name": "stdout",
     "output_type": "stream",
     "text": [
      "SVD RMSE: 0.8383\n",
      "SVD MAE: 0.6421\n"
     ]
    }
   ],
   "source": [
    "svd_rmse = rmse(svd_predictions, verbose=False)\n",
    "svd_mae = mae(svd_predictions, verbose=False)\n",
    "\n",
    "print(f\"SVD RMSE: {svd_rmse:.4f}\")\n",
    "print(f\"SVD MAE: {svd_mae:.4f}\")"
   ]
  },
  {
   "cell_type": "code",
   "execution_count": 27,
   "id": "80419e4b",
   "metadata": {},
   "outputs": [
    {
     "name": "stdout",
     "output_type": "stream",
     "text": [
      "Cross-validation RMSE: 0.8450\n",
      "Cross-validation MAE: 0.6469\n"
     ]
    }
   ],
   "source": [
    "cv_results = cross_validate(svd_model, surprise_data, measures=['RMSE', 'MAE'], cv=5, verbose=False)\n",
    "print(f\"Cross-validation RMSE: {cv_results['test_rmse'].mean():.4f}\")\n",
    "print(f\"Cross-validation MAE: {cv_results['test_mae'].mean():.4f}\")"
   ]
  },
  {
   "cell_type": "code",
   "execution_count": 28,
   "id": "95495e11",
   "metadata": {},
   "outputs": [
    {
     "name": "stdout",
     "output_type": "stream",
     "text": [
      "SVD model saved as 'svd_model.pkl'\n"
     ]
    }
   ],
   "source": [
    "with open('svd_model.pkl', 'wb') as f:\n",
    "    pickle.dump(svd_model, f)\n",
    "print(\"SVD model saved as 'svd_model.pkl'\")"
   ]
  },
  {
   "cell_type": "markdown",
   "id": "64795b46",
   "metadata": {},
   "source": [
    "## Neural Collaborative Filtering"
   ]
  },
  {
   "cell_type": "code",
   "execution_count": 29,
   "id": "f9e853a8",
   "metadata": {},
   "outputs": [],
   "source": [
    "def create_dataset(data):\n",
    "    users = torch.LongTensor(data['user_encoded'].values)\n",
    "    movies = torch.LongTensor(data['movie_encoded'].values)\n",
    "    ratings = torch.FloatTensor(data['rating'].values)\n",
    "    return TensorDataset(users, movies, ratings)"
   ]
  },
  {
   "cell_type": "code",
   "execution_count": 30,
   "id": "7de221b0",
   "metadata": {},
   "outputs": [],
   "source": [
    "train_dataset = create_dataset(train_data)\n",
    "test_dataset = create_dataset(test_data)"
   ]
  },
  {
   "cell_type": "code",
   "execution_count": 31,
   "id": "b9a462f1",
   "metadata": {},
   "outputs": [],
   "source": [
    "train_loader = DataLoader(train_dataset, batch_size=1024, shuffle=True)\n",
    "test_loader = DataLoader(test_dataset, batch_size=1024, shuffle=False)"
   ]
  },
  {
   "cell_type": "code",
   "execution_count": 32,
   "id": "c8d901d8",
   "metadata": {},
   "outputs": [],
   "source": [
    "class NCF(nn.Module):\n",
    "    def __init__(self, n_users, n_movies, n_factors=50, hidden_units=[128, 64], dropout=0.2):\n",
    "        super(NCF, self).__init__()\n",
    "        \n",
    "        self.user_embedding = nn.Embedding(n_users, n_factors)\n",
    "        self.movie_embedding = nn.Embedding(n_movies, n_factors)\n",
    "        self.fc_layers = nn.ModuleList()\n",
    "        input_size = n_factors * 2\n",
    "        \n",
    "        for hidden_size in hidden_units:\n",
    "            self.fc_layers.append(nn.Linear(input_size, hidden_size))\n",
    "            self.fc_layers.append(nn.ReLU())\n",
    "            self.fc_layers.append(nn.Dropout(dropout))\n",
    "            input_size = hidden_size\n",
    "        \n",
    "        self.output_layer = nn.Linear(input_size, 1)\n",
    "        self._init_weights()\n",
    "    \n",
    "    def _init_weights(self):\n",
    "        for layer in self.modules():\n",
    "            if isinstance(layer, nn.Embedding):\n",
    "                nn.init.normal_(layer.weight, std=0.01)\n",
    "            elif isinstance(layer, nn.Linear):\n",
    "                nn.init.xavier_uniform_(layer.weight)\n",
    "                nn.init.constant_(layer.bias, 0)\n",
    "    \n",
    "    def forward(self, user_ids, movie_ids):\n",
    "        user_emb = self.user_embedding(user_ids)\n",
    "        movie_emb = self.movie_embedding(movie_ids)\n",
    "        \n",
    "        x = torch.cat([user_emb, movie_emb], dim=1)\n",
    "        for layer in self.fc_layers:\n",
    "            x = layer(x)\n",
    "    \n",
    "        rating = self.output_layer(x)\n",
    "        return rating.squeeze()"
   ]
  },
  {
   "cell_type": "code",
   "execution_count": 33,
   "id": "66a3c49e",
   "metadata": {},
   "outputs": [],
   "source": [
    "device = torch.device('cuda' if torch.cuda.is_available() else 'cpu')\n",
    "ncf_model = NCF(n_users, n_movies, n_factors=64, hidden_units=[128, 64, 32]).to(device)"
   ]
  },
  {
   "cell_type": "code",
   "execution_count": 34,
   "id": "7fd34708",
   "metadata": {},
   "outputs": [],
   "source": [
    "criterion = nn.MSELoss()\n",
    "optimizer = optim.Adam(ncf_model.parameters(), lr=0.001, weight_decay=1e-5)\n",
    "scheduler = optim.lr_scheduler.StepLR(optimizer, step_size=10, gamma=0.8)"
   ]
  },
  {
   "cell_type": "code",
   "execution_count": null,
   "id": "98f612c7",
   "metadata": {},
   "outputs": [],
   "source": [
    "n_epochs = 20\n",
    "train_losses = []\n",
    "test_losses = []"
   ]
  },
  {
   "cell_type": "code",
   "execution_count": 36,
   "id": "2275fbaf",
   "metadata": {},
   "outputs": [
    {
     "name": "stdout",
     "output_type": "stream",
     "text": [
      "Epoch 5/30, Train Loss: 1.0236, Test Loss: 0.7304\n",
      "Epoch 10/30, Train Loss: 0.9257, Test Loss: 0.7094\n",
      "Epoch 15/30, Train Loss: 0.8608, Test Loss: 0.6951\n",
      "Epoch 20/30, Train Loss: 0.8006, Test Loss: 0.6951\n",
      "Epoch 25/30, Train Loss: 0.7420, Test Loss: 0.7045\n",
      "Epoch 30/30, Train Loss: 0.6861, Test Loss: 0.7148\n"
     ]
    }
   ],
   "source": [
    "for epoch in range(n_epochs):\n",
    "\n",
    "    ncf_model.train()\n",
    "    train_loss = 0\n",
    "    for batch_users, batch_movies, batch_ratings in train_loader:\n",
    "        batch_users = batch_users.to(device)\n",
    "        batch_movies = batch_movies.to(device)\n",
    "        batch_ratings = batch_ratings.to(device)\n",
    "        \n",
    "        optimizer.zero_grad()\n",
    "        predictions = ncf_model(batch_users, batch_movies)\n",
    "        loss = criterion(predictions, batch_ratings)\n",
    "        loss.backward()\n",
    "        optimizer.step()\n",
    "        \n",
    "        train_loss += loss.item()\n",
    "    \n",
    "    ncf_model.eval()\n",
    "    test_loss = 0\n",
    "    with torch.no_grad():\n",
    "        for batch_users, batch_movies, batch_ratings in test_loader:\n",
    "            batch_users = batch_users.to(device)\n",
    "            batch_movies = batch_movies.to(device)\n",
    "            batch_ratings = batch_ratings.to(device)\n",
    "            \n",
    "            predictions = ncf_model(batch_users, batch_movies)\n",
    "            loss = criterion(predictions, batch_ratings)\n",
    "            test_loss += loss.item()\n",
    "    \n",
    "    scheduler.step()\n",
    "    \n",
    "    train_loss /= len(train_loader)\n",
    "    test_loss /= len(test_loader)\n",
    "    train_losses.append(train_loss)\n",
    "    test_losses.append(test_loss)\n",
    "    \n",
    "    if (epoch + 1) % 5 == 0:\n",
    "        print(f'Epoch {epoch+1}/{n_epochs}, Train Loss: {train_loss:.4f}, Test Loss: {test_loss:.4f}')"
   ]
  },
  {
   "cell_type": "code",
   "execution_count": 37,
   "id": "543199bf",
   "metadata": {},
   "outputs": [
    {
     "name": "stdout",
     "output_type": "stream",
     "text": [
      "\n",
      "NCF RMSE: 0.8481\n",
      "NCF MAE: 0.6442\n"
     ]
    }
   ],
   "source": [
    "ncf_model.eval()\n",
    "all_predictions = []\n",
    "all_targets = []\n",
    "\n",
    "with torch.no_grad():\n",
    "    for batch_users, batch_movies, batch_ratings in test_loader:\n",
    "        batch_users = batch_users.to(device)\n",
    "        batch_movies = batch_movies.to(device)\n",
    "        batch_ratings = batch_ratings.to(device)\n",
    "        \n",
    "        predictions = ncf_model(batch_users, batch_movies)\n",
    "        all_predictions.extend(predictions.cpu().numpy())\n",
    "        all_targets.extend(batch_ratings.cpu().numpy())\n",
    "\n",
    "ncf_rmse = np.sqrt(mean_squared_error(all_targets, all_predictions))\n",
    "ncf_mae = mean_absolute_error(all_targets, all_predictions)\n",
    "\n",
    "print(f\"\\nNCF RMSE: {ncf_rmse:.4f}\")\n",
    "print(f\"NCF MAE: {ncf_mae:.4f}\")\n"
   ]
  },
  {
   "cell_type": "code",
   "execution_count": 38,
   "id": "4c1fd470",
   "metadata": {},
   "outputs": [
    {
     "data": {
      "image/png": "[encoded data removed]",
      "text/plain": [
       "<Figure size 640x480 with 1 Axes>"
      ]
     },
     "metadata": {},
     "output_type": "display_data"
    }
   ],
   "source": [
    "plt.plot(train_losses, label='Train Loss')\n",
    "plt.plot(test_losses, label='Test Loss')\n",
    "plt.title('NCF Training Curves')\n",
    "plt.xlabel('Epoch')\n",
    "plt.ylabel('Loss')\n",
    "plt.legend()\n",
    "plt.tight_layout()\n",
    "plt.show()"
   ]
  },
  {
   "cell_type": "code",
   "execution_count": 39,
   "id": "8beb4deb",
   "metadata": {},
   "outputs": [
    {
     "name": "stdout",
     "output_type": "stream",
     "text": [
      "NCF model saved as 'ncf_model.pkl'\n"
     ]
    }
   ],
   "source": [
    "with open('ncf_model.pkl', 'wb') as f:\n",
    "    pickle.dump(ncf_model, f)\n",
    "print(\"NCF model saved as 'ncf_model.pkl'\")"
   ]
  },
  {
   "cell_type": "markdown",
   "id": "120c1895",
   "metadata": {},
   "source": [
    "## Model Comaprison"
   ]
  },
  {
   "cell_type": "code",
   "execution_count": 40,
   "id": "d1e010dc",
   "metadata": {},
   "outputs": [
    {
     "name": "stdout",
     "output_type": "stream",
     "text": [
      "                            Model      RMSE       MAE\n",
      "0    SVD (Factorization Machines)  0.838289  0.642128\n",
      "1  Neural Collaborative Filtering  0.848134  0.644191\n"
     ]
    }
   ],
   "source": [
    "models_comparison = pd.DataFrame({\n",
    "    'Model': ['SVD (Factorization Machines)', 'Neural Collaborative Filtering'],\n",
    "    'RMSE': [svd_rmse, ncf_rmse],\n",
    "    'MAE': [svd_mae, ncf_mae]\n",
    "})\n",
    "\n",
    "print(models_comparison)"
   ]
  },
  {
   "cell_type": "code",
   "execution_count": 41,
   "id": "f75585d7",
   "metadata": {},
   "outputs": [
    {
     "name": "stdout",
     "output_type": "stream",
     "text": [
      "\n",
      "Best performing model: SVD (Factorization Machines)\n"
     ]
    }
   ],
   "source": [
    "best_model_idx = models_comparison['RMSE'].idxmin()\n",
    "best_model = models_comparison.iloc[best_model_idx]['Model']\n",
    "print(f\"\\nBest performing model: {best_model}\")"
   ]
  },
  {
   "cell_type": "code",
   "execution_count": 42,
   "id": "d425d6ea",
   "metadata": {},
   "outputs": [
    {
     "data": {
      "image/png": "[encoded data removed]",
      "text/plain": [
       "<Figure size 1200x500 with 2 Axes>"
      ]
     },
     "metadata": {},
     "output_type": "display_data"
    }
   ],
   "source": [
    "plt.figure(figsize=(12, 5))\n",
    "\n",
    "plt.subplot(1, 2, 1)\n",
    "plt.bar(models_comparison['Model'], models_comparison['RMSE'])\n",
    "plt.title('RMSE Comparison')\n",
    "plt.ylabel('RMSE')\n",
    "plt.xticks(rotation=45)\n",
    "\n",
    "plt.subplot(1, 2, 2)\n",
    "plt.bar(models_comparison['Model'], models_comparison['MAE'])\n",
    "plt.title('MAE Comparison')\n",
    "plt.ylabel('MAE')\n",
    "plt.xticks(rotation=45)\n",
    "\n",
    "plt.tight_layout()\n",
    "plt.show()"
   ]
  },
  {
   "cell_type": "markdown",
   "id": "0dfbe85a",
   "metadata": {},
   "source": [
    "## Item Based Collaborative Filtering"
   ]
  },
  {
   "cell_type": "markdown",
   "id": "ac9020c3",
   "metadata": {},
   "source": [
    "Merge ratings with movies data\n"
   ]
  },
  {
   "cell_type": "code",
   "execution_count": 43,
   "id": "10ce089c",
   "metadata": {},
   "outputs": [],
   "source": [
    "movie_merge = pd.merge(rating_df_clean, movies_data, on='movieId')\n"
   ]
  },
  {
   "cell_type": "markdown",
   "id": "a336adbf",
   "metadata": {},
   "source": [
    "Convert nanoseconds to seconds before converting to datetime"
   ]
  },
  {
   "cell_type": "code",
   "execution_count": 44,
   "id": "8d7d946c",
   "metadata": {},
   "outputs": [
    {
     "name": "stdout",
     "output_type": "stream",
     "text": [
      "Movie merge dataset shape: (67898, 6)\n"
     ]
    },
    {
     "data": {
      "application/vnd.microsoft.datawrangler.viewer.v0+json": {
       "columns": [
        {
         "name": "index",
         "rawType": "int64",
         "type": "integer"
        },
        {
         "name": "userId",
         "rawType": "int64",
         "type": "integer"
        },
        {
         "name": "movieId",
         "rawType": "int64",
         "type": "integer"
        },
        {
         "name": "title",
         "rawType": "object",
         "type": "string"
        },
        {
         "name": "genres",
         "rawType": "object",
         "type": "string"
        },
        {
         "name": "timestamp",
         "rawType": "datetime64[ns]",
         "type": "datetime"
        },
        {
         "name": "rating",
         "rawType": "float64",
         "type": "float"
        }
       ],
       "ref": "07bf10ad-6578-4a29-a65d-ca8656717757",
       "rows": [
        [
         "0",
         "1",
         "1",
         "Toy Story (1995)",
         "Adventure|Animation|Children|Comedy|Fantasy",
         "2000-07-30 18:45:03",
         "4.0"
        ],
        [
         "1",
         "1",
         "3",
         "Grumpier Old Men (1995)",
         "Comedy|Romance",
         "2000-07-30 18:20:47",
         "4.0"
        ],
        [
         "2",
         "1",
         "6",
         "Heat (1995)",
         "Action|Crime|Thriller",
         "2000-07-30 18:37:04",
         "4.0"
        ],
        [
         "3",
         "1",
         "47",
         "Seven (a.k.a. Se7en) (1995)",
         "Mystery|Thriller",
         "2000-07-30 19:03:35",
         "5.0"
        ],
        [
         "4",
         "1",
         "50",
         "Usual Suspects, The (1995)",
         "Crime|Mystery|Thriller",
         "2000-07-30 18:48:51",
         "5.0"
        ]
       ],
       "shape": {
        "columns": 6,
        "rows": 5
       }
      },
      "text/html": [
       "<div>\n",
       "<style scoped>\n",
       "    .dataframe tbody tr th:only-of-type {\n",
       "        vertical-align: middle;\n",
       "    }\n",
       "\n",
       "    .dataframe tbody tr th {\n",
       "        vertical-align: top;\n",
       "    }\n",
       "\n",
       "    .dataframe thead th {\n",
       "        text-align: right;\n",
       "    }\n",
       "</style>\n",
       "<table border=\"1\" class=\"dataframe\">\n",
       "  <thead>\n",
       "    <tr style=\"text-align: right;\">\n",
       "      <th></th>\n",
       "      <th>userId</th>\n",
       "      <th>movieId</th>\n",
       "      <th>title</th>\n",
       "      <th>genres</th>\n",
       "      <th>timestamp</th>\n",
       "      <th>rating</th>\n",
       "    </tr>\n",
       "  </thead>\n",
       "  <tbody>\n",
       "    <tr>\n",
       "      <th>0</th>\n",
       "      <td>1</td>\n",
       "      <td>1</td>\n",
       "      <td>Toy Story (1995)</td>\n",
       "      <td>Adventure|Animation|Children|Comedy|Fantasy</td>\n",
       "      <td>2000-07-30 18:45:03</td>\n",
       "      <td>4.0</td>\n",
       "    </tr>\n",
       "    <tr>\n",
       "      <th>1</th>\n",
       "      <td>1</td>\n",
       "      <td>3</td>\n",
       "      <td>Grumpier Old Men (1995)</td>\n",
       "      <td>Comedy|Romance</td>\n",
       "      <td>2000-07-30 18:20:47</td>\n",
       "      <td>4.0</td>\n",
       "    </tr>\n",
       "    <tr>\n",
       "      <th>2</th>\n",
       "      <td>1</td>\n",
       "      <td>6</td>\n",
       "      <td>Heat (1995)</td>\n",
       "      <td>Action|Crime|Thriller</td>\n",
       "      <td>2000-07-30 18:37:04</td>\n",
       "      <td>4.0</td>\n",
       "    </tr>\n",
       "    <tr>\n",
       "      <th>3</th>\n",
       "      <td>1</td>\n",
       "      <td>47</td>\n",
       "      <td>Seven (a.k.a. Se7en) (1995)</td>\n",
       "      <td>Mystery|Thriller</td>\n",
       "      <td>2000-07-30 19:03:35</td>\n",
       "      <td>5.0</td>\n",
       "    </tr>\n",
       "    <tr>\n",
       "      <th>4</th>\n",
       "      <td>1</td>\n",
       "      <td>50</td>\n",
       "      <td>Usual Suspects, The (1995)</td>\n",
       "      <td>Crime|Mystery|Thriller</td>\n",
       "      <td>2000-07-30 18:48:51</td>\n",
       "      <td>5.0</td>\n",
       "    </tr>\n",
       "  </tbody>\n",
       "</table>\n",
       "</div>"
      ],
      "text/plain": [
       "   userId  movieId                        title  \\\n",
       "0       1        1             Toy Story (1995)   \n",
       "1       1        3      Grumpier Old Men (1995)   \n",
       "2       1        6                  Heat (1995)   \n",
       "3       1       47  Seven (a.k.a. Se7en) (1995)   \n",
       "4       1       50   Usual Suspects, The (1995)   \n",
       "\n",
       "                                        genres           timestamp  rating  \n",
       "0  Adventure|Animation|Children|Comedy|Fantasy 2000-07-30 18:45:03     4.0  \n",
       "1                               Comedy|Romance 2000-07-30 18:20:47     4.0  \n",
       "2                        Action|Crime|Thriller 2000-07-30 18:37:04     4.0  \n",
       "3                             Mystery|Thriller 2000-07-30 19:03:35     5.0  \n",
       "4                       Crime|Mystery|Thriller 2000-07-30 18:48:51     5.0  "
      ]
     },
     "execution_count": 44,
     "metadata": {},
     "output_type": "execute_result"
    }
   ],
   "source": [
    "movie_merge['timestamp'] = movie_merge['timestamp'].apply(lambda x: datetime.utcfromtimestamp(x / 1e9))\n",
    "movie_merge = movie_merge[['userId', 'movieId', 'title', 'genres', 'timestamp', 'rating']]\n",
    "\n",
    "print(\"Movie merge dataset shape:\", movie_merge.shape)\n",
    "movie_merge.head()"
   ]
  },
  {
   "cell_type": "code",
   "execution_count": 45,
   "id": "16e840eb",
   "metadata": {},
   "outputs": [],
   "source": [
    "movie_merge['genres'] = movie_merge['genres'].fillna('(no genres listed)')\n",
    "movie_merge['genres'] = movie_merge['genres'].apply(lambda x: x.split('|') if isinstance(x, str) else [])"
   ]
  },
  {
   "cell_type": "code",
   "execution_count": 46,
   "id": "64c6bd58",
   "metadata": {},
   "outputs": [
    {
     "name": "stdout",
     "output_type": "stream",
     "text": [
      "Genre features shape: (67898, 19)\n",
      "Available genres: ['Action', 'Adventure', 'Animation', 'Children', 'Comedy', 'Crime', 'Documentary', 'Drama', 'Fantasy', 'Film-Noir', 'Horror', 'IMAX', 'Musical', 'Mystery', 'Romance', 'Sci-Fi', 'Thriller', 'War', 'Western']\n"
     ]
    }
   ],
   "source": [
    "mlb = MultiLabelBinarizer()\n",
    "genre_onehot = pd.DataFrame(\n",
    "    mlb.fit_transform(movie_merge['genres']),\n",
    "    columns=mlb.classes_,\n",
    "    index=movie_merge.index\n",
    ")\n",
    "\n",
    "print(f\"Genre features shape: {genre_onehot.shape}\")\n",
    "print(f\"Available genres: {list(mlb.classes_)}\")"
   ]
  },
  {
   "cell_type": "code",
   "execution_count": 47,
   "id": "8822c631",
   "metadata": {},
   "outputs": [],
   "source": [
    "genre_onehot['movieId'] = movie_merge['movieId']\n",
    "genre_onehot['rating'] = movie_merge['rating']"
   ]
  },
  {
   "cell_type": "markdown",
   "id": "b355707a",
   "metadata": {},
   "source": [
    "Create features for similarity calculation (genres + average rating)"
   ]
  },
  {
   "cell_type": "code",
   "execution_count": 48,
   "id": "d4fec13b",
   "metadata": {},
   "outputs": [
    {
     "name": "stdout",
     "output_type": "stream",
     "text": [
      "Feature matrix shape: (1297, 20)\n"
     ]
    }
   ],
   "source": [
    "genre_features = genre_onehot.groupby('movieId').agg({\n",
    "    **{col: 'max' for col in mlb.classes_},\n",
    "    'rating': 'mean'\n",
    "}).round(3)\n",
    "\n",
    "print(f\"Feature matrix shape: {genre_features.shape}\")"
   ]
  },
  {
   "cell_type": "code",
   "execution_count": 49,
   "id": "ade1108b",
   "metadata": {},
   "outputs": [
    {
     "name": "stdout",
     "output_type": "stream",
     "text": [
      "Similarity matrix shape: (1297, 1297)\n"
     ]
    }
   ],
   "source": [
    "similarity_matrix = cosine_similarity(genre_features)\n",
    "similarity_df = pd.DataFrame(\n",
    "    similarity_matrix, \n",
    "    index=genre_features.index, \n",
    "    columns=genre_features.index\n",
    ")\n",
    "\n",
    "print(f\"Similarity matrix shape: {similarity_matrix.shape}\")"
   ]
  },
  {
   "cell_type": "code",
   "execution_count": 50,
   "id": "434b06db",
   "metadata": {},
   "outputs": [],
   "source": [
    "def get_item_recommendations(movie_title, top_n=10):\n",
    "    \n",
    "    movie_info = movie_merge[movie_merge['title'].str.contains(movie_title, case=False, na=False)]\n",
    "    \n",
    "    if movie_info.empty:\n",
    "        print(f\"Movie '{movie_title}' not found!\")\n",
    "        return None\n",
    "    \n",
    "    movie_id = movie_info['movieId'].iloc[0]\n",
    "    actual_title = movie_info['title'].iloc[0]\n",
    "        \n",
    "    if movie_id not in similarity_df.index:\n",
    "        print(f\"Movie ID {movie_id} not found in similarity matrix!\")\n",
    "        return None\n",
    "    \n",
    "    # Get similarity scores\n",
    "    sim_scores = similarity_df[movie_id].sort_values(ascending=False)\n",
    "    \n",
    "    # Remove the movie itself and get top recommendations\n",
    "    sim_scores = sim_scores.loc[sim_scores.index != movie_id].head(top_n)\n",
    "    recommended_movie_ids = sim_scores.index.tolist()\n",
    "    \n",
    "    # Get movie details\n",
    "    recommendations = movie_merge[movie_merge['movieId'].isin(recommended_movie_ids)]\n",
    "    recommendations = recommendations.drop_duplicates(subset='movieId')\n",
    "    \n",
    "    # Add similarity scores\n",
    "    recommendations = recommendations.set_index('movieId').loc[recommended_movie_ids].reset_index()\n",
    "    recommendations['similarity_score'] = sim_scores.values\n",
    "    \n",
    "    # Calculate average ratings\n",
    "    avg_ratings = movie_merge.groupby('movieId')['rating'].agg(['mean', 'count']).round(2)\n",
    "    avg_ratings.columns = ['avg_rating', 'num_ratings']\n",
    "    recommendations = recommendations.merge(avg_ratings, on='movieId', how='left')\n",
    "    \n",
    "    return recommendations[['movieId', 'title', 'genres', 'similarity_score', 'avg_rating', 'num_ratings']]"
   ]
  },
  {
   "cell_type": "code",
   "execution_count": 51,
   "id": "a1046855",
   "metadata": {},
   "outputs": [
    {
     "name": "stdout",
     "output_type": "stream",
     "text": [
      "Popular movies for testing:\n",
      "movieId  title                                    \n",
      "356      Forrest Gump (1994)                          329\n",
      "318      Shawshank Redemption, The (1994)             317\n",
      "296      Pulp Fiction (1994)                          307\n",
      "593      Silence of the Lambs, The (1991)             279\n",
      "2571     Matrix, The (1999)                           278\n",
      "260      Star Wars: Episode IV - A New Hope (1977)    251\n",
      "480      Jurassic Park (1993)                         238\n",
      "110      Braveheart (1995)                            237\n",
      "589      Terminator 2: Judgment Day (1991)            224\n",
      "527      Schindler's List (1993)                      220\n",
      "dtype: int64\n"
     ]
    }
   ],
   "source": [
    "popular_movies_sample = movie_merge.groupby(['movieId', 'title']).size().sort_values(ascending=False).head(20)\n",
    "print(\"Popular movies for testing:\")\n",
    "print(popular_movies_sample.head(10))"
   ]
  },
  {
   "cell_type": "code",
   "execution_count": 52,
   "id": "f7d4297e",
   "metadata": {},
   "outputs": [
    {
     "name": "stdout",
     "output_type": "stream",
     "text": [
      "\n",
      "Top 10 recommendations for 'Toy Story':\n"
     ]
    },
    {
     "data": {
      "application/vnd.microsoft.datawrangler.viewer.v0+json": {
       "columns": [
        {
         "name": "index",
         "rawType": "int64",
         "type": "integer"
        },
        {
         "name": "movieId",
         "rawType": "int64",
         "type": "integer"
        },
        {
         "name": "title",
         "rawType": "object",
         "type": "string"
        },
        {
         "name": "genres",
         "rawType": "object",
         "type": "unknown"
        },
        {
         "name": "similarity_score",
         "rawType": "float64",
         "type": "float"
        },
        {
         "name": "avg_rating",
         "rawType": "float64",
         "type": "float"
        },
        {
         "name": "num_ratings",
         "rawType": "int64",
         "type": "integer"
        }
       ],
       "ref": "18687ee2-7987-43eb-bedf-cb386f385cde",
       "rows": [
        [
         "0",
         "4886",
         "Monsters, Inc. (2001)",
         "['Adventure', 'Animation', 'Children', 'Comedy', 'Fantasy']",
         "0.999984650099648",
         "3.87",
         "132"
        ],
        [
         "1",
         "3114",
         "Toy Story 2 (1999)",
         "['Adventure', 'Animation', 'Children', 'Comedy', 'Fantasy']",
         "0.9999778102162646",
         "3.86",
         "97"
        ],
        [
         "2",
         "4016",
         "Emperor's New Groove, The (2000)",
         "['Adventure', 'Animation', 'Children', 'Comedy', 'Fantasy']",
         "0.9997257996061621",
         "3.72",
         "37"
        ],
        [
         "3",
         "2294",
         "Antz (1998)",
         "['Adventure', 'Animation', 'Children', 'Comedy', 'Fantasy']",
         "0.9963706062860561",
         "3.24",
         "45"
        ],
        [
         "4",
         "53121",
         "Shrek the Third (2007)",
         "['Adventure', 'Animation', 'Children', 'Comedy', 'Fantasy']",
         "0.9929954990254516",
         "3.02",
         "21"
        ],
        [
         "5",
         "78499",
         "Toy Story 3 (2010)",
         "['Adventure', 'Animation', 'Children', 'Comedy', 'Fantasy', 'IMAX']",
         "0.9777126816235424",
         "4.11",
         "55"
        ],
        [
         "6",
         "108932",
         "The Lego Movie (2014)",
         "['Action', 'Adventure', 'Animation', 'Children', 'Comedy', 'Fantasy']",
         "0.9758672361620525",
         "3.87",
         "31"
        ],
        [
         "7",
         "4306",
         "Shrek (2001)",
         "['Adventure', 'Animation', 'Children', 'Comedy', 'Fantasy', 'Romance']",
         "0.975838322077781",
         "3.87",
         "170"
        ],
        [
         "8",
         "134853",
         "Inside Out (2015)",
         "['Adventure', 'Animation', 'Children', 'Comedy', 'Drama', 'Fantasy']",
         "0.9752914390576268",
         "3.81",
         "43"
        ],
        [
         "9",
         "6377",
         "Finding Nemo (2003)",
         "['Adventure', 'Animation', 'Children', 'Comedy']",
         "0.9751422784714132",
         "3.96",
         "141"
        ]
       ],
       "shape": {
        "columns": 6,
        "rows": 10
       }
      },
      "text/html": [
       "<div>\n",
       "<style scoped>\n",
       "    .dataframe tbody tr th:only-of-type {\n",
       "        vertical-align: middle;\n",
       "    }\n",
       "\n",
       "    .dataframe tbody tr th {\n",
       "        vertical-align: top;\n",
       "    }\n",
       "\n",
       "    .dataframe thead th {\n",
       "        text-align: right;\n",
       "    }\n",
       "</style>\n",
       "<table border=\"1\" class=\"dataframe\">\n",
       "  <thead>\n",
       "    <tr style=\"text-align: right;\">\n",
       "      <th></th>\n",
       "      <th>movieId</th>\n",
       "      <th>title</th>\n",
       "      <th>genres</th>\n",
       "      <th>similarity_score</th>\n",
       "      <th>avg_rating</th>\n",
       "      <th>num_ratings</th>\n",
       "    </tr>\n",
       "  </thead>\n",
       "  <tbody>\n",
       "    <tr>\n",
       "      <th>0</th>\n",
       "      <td>4886</td>\n",
       "      <td>Monsters, Inc. (2001)</td>\n",
       "      <td>[Adventure, Animation, Children, Comedy, Fantasy]</td>\n",
       "      <td>0.999985</td>\n",
       "      <td>3.87</td>\n",
       "      <td>132</td>\n",
       "    </tr>\n",
       "    <tr>\n",
       "      <th>1</th>\n",
       "      <td>3114</td>\n",
       "      <td>Toy Story 2 (1999)</td>\n",
       "      <td>[Adventure, Animation, Children, Comedy, Fantasy]</td>\n",
       "      <td>0.999978</td>\n",
       "      <td>3.86</td>\n",
       "      <td>97</td>\n",
       "    </tr>\n",
       "    <tr>\n",
       "      <th>2</th>\n",
       "      <td>4016</td>\n",
       "      <td>Emperor's New Groove, The (2000)</td>\n",
       "      <td>[Adventure, Animation, Children, Comedy, Fantasy]</td>\n",
       "      <td>0.999726</td>\n",
       "      <td>3.72</td>\n",
       "      <td>37</td>\n",
       "    </tr>\n",
       "    <tr>\n",
       "      <th>3</th>\n",
       "      <td>2294</td>\n",
       "      <td>Antz (1998)</td>\n",
       "      <td>[Adventure, Animation, Children, Comedy, Fantasy]</td>\n",
       "      <td>0.996371</td>\n",
       "      <td>3.24</td>\n",
       "      <td>45</td>\n",
       "    </tr>\n",
       "    <tr>\n",
       "      <th>4</th>\n",
       "      <td>53121</td>\n",
       "      <td>Shrek the Third (2007)</td>\n",
       "      <td>[Adventure, Animation, Children, Comedy, Fantasy]</td>\n",
       "      <td>0.992995</td>\n",
       "      <td>3.02</td>\n",
       "      <td>21</td>\n",
       "    </tr>\n",
       "    <tr>\n",
       "      <th>5</th>\n",
       "      <td>78499</td>\n",
       "      <td>Toy Story 3 (2010)</td>\n",
       "      <td>[Adventure, Animation, Children, Comedy, Fanta...</td>\n",
       "      <td>0.977713</td>\n",
       "      <td>4.11</td>\n",
       "      <td>55</td>\n",
       "    </tr>\n",
       "    <tr>\n",
       "      <th>6</th>\n",
       "      <td>108932</td>\n",
       "      <td>The Lego Movie (2014)</td>\n",
       "      <td>[Action, Adventure, Animation, Children, Comed...</td>\n",
       "      <td>0.975867</td>\n",
       "      <td>3.87</td>\n",
       "      <td>31</td>\n",
       "    </tr>\n",
       "    <tr>\n",
       "      <th>7</th>\n",
       "      <td>4306</td>\n",
       "      <td>Shrek (2001)</td>\n",
       "      <td>[Adventure, Animation, Children, Comedy, Fanta...</td>\n",
       "      <td>0.975838</td>\n",
       "      <td>3.87</td>\n",
       "      <td>170</td>\n",
       "    </tr>\n",
       "    <tr>\n",
       "      <th>8</th>\n",
       "      <td>134853</td>\n",
       "      <td>Inside Out (2015)</td>\n",
       "      <td>[Adventure, Animation, Children, Comedy, Drama...</td>\n",
       "      <td>0.975291</td>\n",
       "      <td>3.81</td>\n",
       "      <td>43</td>\n",
       "    </tr>\n",
       "    <tr>\n",
       "      <th>9</th>\n",
       "      <td>6377</td>\n",
       "      <td>Finding Nemo (2003)</td>\n",
       "      <td>[Adventure, Animation, Children, Comedy]</td>\n",
       "      <td>0.975142</td>\n",
       "      <td>3.96</td>\n",
       "      <td>141</td>\n",
       "    </tr>\n",
       "  </tbody>\n",
       "</table>\n",
       "</div>"
      ],
      "text/plain": [
       "   movieId                             title  \\\n",
       "0     4886             Monsters, Inc. (2001)   \n",
       "1     3114                Toy Story 2 (1999)   \n",
       "2     4016  Emperor's New Groove, The (2000)   \n",
       "3     2294                       Antz (1998)   \n",
       "4    53121            Shrek the Third (2007)   \n",
       "5    78499                Toy Story 3 (2010)   \n",
       "6   108932             The Lego Movie (2014)   \n",
       "7     4306                      Shrek (2001)   \n",
       "8   134853                 Inside Out (2015)   \n",
       "9     6377               Finding Nemo (2003)   \n",
       "\n",
       "                                              genres  similarity_score  \\\n",
       "0  [Adventure, Animation, Children, Comedy, Fantasy]          0.999985   \n",
       "1  [Adventure, Animation, Children, Comedy, Fantasy]          0.999978   \n",
       "2  [Adventure, Animation, Children, Comedy, Fantasy]          0.999726   \n",
       "3  [Adventure, Animation, Children, Comedy, Fantasy]          0.996371   \n",
       "4  [Adventure, Animation, Children, Comedy, Fantasy]          0.992995   \n",
       "5  [Adventure, Animation, Children, Comedy, Fanta...          0.977713   \n",
       "6  [Action, Adventure, Animation, Children, Comed...          0.975867   \n",
       "7  [Adventure, Animation, Children, Comedy, Fanta...          0.975838   \n",
       "8  [Adventure, Animation, Children, Comedy, Drama...          0.975291   \n",
       "9           [Adventure, Animation, Children, Comedy]          0.975142   \n",
       "\n",
       "   avg_rating  num_ratings  \n",
       "0        3.87          132  \n",
       "1        3.86           97  \n",
       "2        3.72           37  \n",
       "3        3.24           45  \n",
       "4        3.02           21  \n",
       "5        4.11           55  \n",
       "6        3.87           31  \n",
       "7        3.87          170  \n",
       "8        3.81           43  \n",
       "9        3.96          141  "
      ]
     },
     "execution_count": 52,
     "metadata": {},
     "output_type": "execute_result"
    }
   ],
   "source": [
    "test_movie = \"Toy Story\"\n",
    "recommendations = get_item_recommendations(test_movie, top_n=10)\n",
    "\n",
    "if recommendations is not None:\n",
    "    print(f\"\\nTop 10 recommendations for '{test_movie}':\")\n",
    "\n",
    "recommendations"
   ]
  },
  {
   "cell_type": "code",
   "execution_count": 53,
   "id": "afe4bbd9",
   "metadata": {},
   "outputs": [
    {
     "name": "stdout",
     "output_type": "stream",
     "text": [
      "\n",
      "Top 10 recommendations for 'Jurassic Park':\n"
     ]
    },
    {
     "data": {
      "application/vnd.microsoft.datawrangler.viewer.v0+json": {
       "columns": [
        {
         "name": "index",
         "rawType": "int64",
         "type": "integer"
        },
        {
         "name": "movieId",
         "rawType": "int64",
         "type": "integer"
        },
        {
         "name": "title",
         "rawType": "object",
         "type": "string"
        },
        {
         "name": "genres",
         "rawType": "object",
         "type": "unknown"
        },
        {
         "name": "similarity_score",
         "rawType": "float64",
         "type": "float"
        },
        {
         "name": "avg_rating",
         "rawType": "float64",
         "type": "float"
        },
        {
         "name": "num_ratings",
         "rawType": "int64",
         "type": "integer"
        }
       ],
       "ref": "21f72cf8-a4d0-45d7-a478-7f044d01a56d",
       "rows": [
        [
         "0",
         "1374",
         "Star Trek II: The Wrath of Khan (1982)",
         "['Action', 'Adventure', 'Sci-Fi', 'Thriller']",
         "0.9999984410480538",
         "3.77",
         "62"
        ],
        [
         "1",
         "6333",
         "X2: X-Men United (2003)",
         "['Action', 'Adventure', 'Sci-Fi', 'Thriller']",
         "0.9999958109116535",
         "3.72",
         "76"
        ],
        [
         "2",
         "122882",
         "Mad Max: Fury Road (2015)",
         "['Action', 'Adventure', 'Sci-Fi', 'Thriller']",
         "0.9999716339087089",
         "3.82",
         "47"
        ],
        [
         "3",
         "2916",
         "Total Recall (1990)",
         "['Action', 'Adventure', 'Sci-Fi', 'Thriller']",
         "0.9999399311742924",
         "3.65",
         "88"
        ],
        [
         "4",
         "1356",
         "Star Trek: First Contact (1996)",
         "['Action', 'Adventure', 'Sci-Fi', 'Thriller']",
         "0.9999032537436463",
         "3.88",
         "91"
        ],
        [
         "5",
         "5349",
         "Spider-Man (2002)",
         "['Action', 'Adventure', 'Sci-Fi', 'Thriller']",
         "0.999707512470162",
         "3.54",
         "122"
        ],
        [
         "6",
         "3703",
         "Road Warrior, The (Mad Max 2) (1981)",
         "['Action', 'Adventure', 'Sci-Fi', 'Thriller']",
         "0.9995505578618126",
         "4.04",
         "40"
        ],
        [
         "7",
         "8644",
         "I, Robot (2004)",
         "['Action', 'Adventure', 'Sci-Fi', 'Thriller']",
         "0.9995447661367669",
         "3.49",
         "61"
        ],
        [
         "8",
         "1127",
         "Abyss, The (1989)",
         "['Action', 'Adventure', 'Sci-Fi', 'Thriller']",
         "0.999482976916473",
         "3.48",
         "62"
        ],
        [
         "9",
         "1129",
         "Escape from New York (1981)",
         "['Action', 'Adventure', 'Sci-Fi', 'Thriller']",
         "0.9993686861988343",
         "3.45",
         "39"
        ]
       ],
       "shape": {
        "columns": 6,
        "rows": 10
       }
      },
      "text/html": [
       "<div>\n",
       "<style scoped>\n",
       "    .dataframe tbody tr th:only-of-type {\n",
       "        vertical-align: middle;\n",
       "    }\n",
       "\n",
       "    .dataframe tbody tr th {\n",
       "        vertical-align: top;\n",
       "    }\n",
       "\n",
       "    .dataframe thead th {\n",
       "        text-align: right;\n",
       "    }\n",
       "</style>\n",
       "<table border=\"1\" class=\"dataframe\">\n",
       "  <thead>\n",
       "    <tr style=\"text-align: right;\">\n",
       "      <th></th>\n",
       "      <th>movieId</th>\n",
       "      <th>title</th>\n",
       "      <th>genres</th>\n",
       "      <th>similarity_score</th>\n",
       "      <th>avg_rating</th>\n",
       "      <th>num_ratings</th>\n",
       "    </tr>\n",
       "  </thead>\n",
       "  <tbody>\n",
       "    <tr>\n",
       "      <th>0</th>\n",
       "      <td>1374</td>\n",
       "      <td>Star Trek II: The Wrath of Khan (1982)</td>\n",
       "      <td>[Action, Adventure, Sci-Fi, Thriller]</td>\n",
       "      <td>0.999998</td>\n",
       "      <td>3.77</td>\n",
       "      <td>62</td>\n",
       "    </tr>\n",
       "    <tr>\n",
       "      <th>1</th>\n",
       "      <td>6333</td>\n",
       "      <td>X2: X-Men United (2003)</td>\n",
       "      <td>[Action, Adventure, Sci-Fi, Thriller]</td>\n",
       "      <td>0.999996</td>\n",
       "      <td>3.72</td>\n",
       "      <td>76</td>\n",
       "    </tr>\n",
       "    <tr>\n",
       "      <th>2</th>\n",
       "      <td>122882</td>\n",
       "      <td>Mad Max: Fury Road (2015)</td>\n",
       "      <td>[Action, Adventure, Sci-Fi, Thriller]</td>\n",
       "      <td>0.999972</td>\n",
       "      <td>3.82</td>\n",
       "      <td>47</td>\n",
       "    </tr>\n",
       "    <tr>\n",
       "      <th>3</th>\n",
       "      <td>2916</td>\n",
       "      <td>Total Recall (1990)</td>\n",
       "      <td>[Action, Adventure, Sci-Fi, Thriller]</td>\n",
       "      <td>0.999940</td>\n",
       "      <td>3.65</td>\n",
       "      <td>88</td>\n",
       "    </tr>\n",
       "    <tr>\n",
       "      <th>4</th>\n",
       "      <td>1356</td>\n",
       "      <td>Star Trek: First Contact (1996)</td>\n",
       "      <td>[Action, Adventure, Sci-Fi, Thriller]</td>\n",
       "      <td>0.999903</td>\n",
       "      <td>3.88</td>\n",
       "      <td>91</td>\n",
       "    </tr>\n",
       "    <tr>\n",
       "      <th>5</th>\n",
       "      <td>5349</td>\n",
       "      <td>Spider-Man (2002)</td>\n",
       "      <td>[Action, Adventure, Sci-Fi, Thriller]</td>\n",
       "      <td>0.999708</td>\n",
       "      <td>3.54</td>\n",
       "      <td>122</td>\n",
       "    </tr>\n",
       "    <tr>\n",
       "      <th>6</th>\n",
       "      <td>3703</td>\n",
       "      <td>Road Warrior, The (Mad Max 2) (1981)</td>\n",
       "      <td>[Action, Adventure, Sci-Fi, Thriller]</td>\n",
       "      <td>0.999551</td>\n",
       "      <td>4.04</td>\n",
       "      <td>40</td>\n",
       "    </tr>\n",
       "    <tr>\n",
       "      <th>7</th>\n",
       "      <td>8644</td>\n",
       "      <td>I, Robot (2004)</td>\n",
       "      <td>[Action, Adventure, Sci-Fi, Thriller]</td>\n",
       "      <td>0.999545</td>\n",
       "      <td>3.49</td>\n",
       "      <td>61</td>\n",
       "    </tr>\n",
       "    <tr>\n",
       "      <th>8</th>\n",
       "      <td>1127</td>\n",
       "      <td>Abyss, The (1989)</td>\n",
       "      <td>[Action, Adventure, Sci-Fi, Thriller]</td>\n",
       "      <td>0.999483</td>\n",
       "      <td>3.48</td>\n",
       "      <td>62</td>\n",
       "    </tr>\n",
       "    <tr>\n",
       "      <th>9</th>\n",
       "      <td>1129</td>\n",
       "      <td>Escape from New York (1981)</td>\n",
       "      <td>[Action, Adventure, Sci-Fi, Thriller]</td>\n",
       "      <td>0.999369</td>\n",
       "      <td>3.45</td>\n",
       "      <td>39</td>\n",
       "    </tr>\n",
       "  </tbody>\n",
       "</table>\n",
       "</div>"
      ],
      "text/plain": [
       "   movieId                                   title  \\\n",
       "0     1374  Star Trek II: The Wrath of Khan (1982)   \n",
       "1     6333                 X2: X-Men United (2003)   \n",
       "2   122882               Mad Max: Fury Road (2015)   \n",
       "3     2916                     Total Recall (1990)   \n",
       "4     1356         Star Trek: First Contact (1996)   \n",
       "5     5349                       Spider-Man (2002)   \n",
       "6     3703    Road Warrior, The (Mad Max 2) (1981)   \n",
       "7     8644                         I, Robot (2004)   \n",
       "8     1127                       Abyss, The (1989)   \n",
       "9     1129             Escape from New York (1981)   \n",
       "\n",
       "                                  genres  similarity_score  avg_rating  \\\n",
       "0  [Action, Adventure, Sci-Fi, Thriller]          0.999998        3.77   \n",
       "1  [Action, Adventure, Sci-Fi, Thriller]          0.999996        3.72   \n",
       "2  [Action, Adventure, Sci-Fi, Thriller]          0.999972        3.82   \n",
       "3  [Action, Adventure, Sci-Fi, Thriller]          0.999940        3.65   \n",
       "4  [Action, Adventure, Sci-Fi, Thriller]          0.999903        3.88   \n",
       "5  [Action, Adventure, Sci-Fi, Thriller]          0.999708        3.54   \n",
       "6  [Action, Adventure, Sci-Fi, Thriller]          0.999551        4.04   \n",
       "7  [Action, Adventure, Sci-Fi, Thriller]          0.999545        3.49   \n",
       "8  [Action, Adventure, Sci-Fi, Thriller]          0.999483        3.48   \n",
       "9  [Action, Adventure, Sci-Fi, Thriller]          0.999369        3.45   \n",
       "\n",
       "   num_ratings  \n",
       "0           62  \n",
       "1           76  \n",
       "2           47  \n",
       "3           88  \n",
       "4           91  \n",
       "5          122  \n",
       "6           40  \n",
       "7           61  \n",
       "8           62  \n",
       "9           39  "
      ]
     },
     "execution_count": 53,
     "metadata": {},
     "output_type": "execute_result"
    }
   ],
   "source": [
    "test_movie2 = \"Jurassic Park\"\n",
    "recommendations2 = get_item_recommendations(test_movie2, top_n=10)\n",
    "\n",
    "if recommendations2 is not None:\n",
    "    print(f\"\\nTop 10 recommendations for '{test_movie2}':\")\n",
    "recommendations2"
   ]
  },
  {
   "cell_type": "code",
   "execution_count": 54,
   "id": "8ca08f63",
   "metadata": {},
   "outputs": [
    {
     "name": "stdout",
     "output_type": "stream",
     "text": [
      "Average similarity score: 0.987\n",
      "Average rating of recommendations: 3.733\n",
      "Average number of ratings: 77.2\n"
     ]
    }
   ],
   "source": [
    "if recommendations is not None:\n",
    "    print(f\"Average similarity score: {recommendations['similarity_score'].mean():.3f}\")\n",
    "    print(f\"Average rating of recommendations: {recommendations['avg_rating'].mean():.3f}\")\n",
    "    print(f\"Average number of ratings: {recommendations['num_ratings'].mean():.1f}\")"
   ]
  },
  {
   "cell_type": "code",
   "execution_count": null,
   "id": "1ae2c6a0",
   "metadata": {},
   "outputs": [],
   "source": []
  },
  {
   "cell_type": "code",
   "execution_count": null,
   "id": "0d599920",
   "metadata": {},
   "outputs": [],
   "source": []
  }
 ],
 "metadata": {
  "kernelspec": {
   "display_name": "env",
   "language": "python",
   "name": "python3"
  },
  "language_info": {
   "codemirror_mode": {
    "name": "ipython",
    "version": 3
   },
   "file_extension": ".py",
   "mimetype": "text/x-python",
   "name": "python",
   "nbconvert_exporter": "python",
   "pygments_lexer": "ipython3",
   "version": "3.11.0"
  }
 },
 "nbformat": 4,
 "nbformat_minor": 5
}
